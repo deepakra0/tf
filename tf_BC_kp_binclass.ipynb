{
  "nbformat": 4,
  "nbformat_minor": 0,
  "metadata": {
    "colab": {
      "name": "tf-BC-kp-binclass.ipynb",
      "provenance": [],
      "collapsed_sections": [],
      "authorship_tag": "ABX9TyMJ4P3eF95ykYyzTRbBGUX2",
      "include_colab_link": true
    },
    "kernelspec": {
      "name": "python3",
      "display_name": "Python 3"
    },
    "language_info": {
      "name": "python"
    }
  },
  "cells": [
    {
      "cell_type": "markdown",
      "metadata": {
        "id": "view-in-github",
        "colab_type": "text"
      },
      "source": [
        "<a href=\"https://colab.research.google.com/github/deepakra0/tf/blob/Preprocessing/tf_BC_kp_binclass.ipynb\" target=\"_parent\"><img src=\"https://colab.research.google.com/assets/colab-badge.svg\" alt=\"Open In Colab\"/></a>"
      ]
    },
    {
      "cell_type": "code",
      "metadata": {
        "id": "p45YgUCQZ2hd"
      },
      "source": [
        "import tensorflow as tf\n",
        "import pandas as pd\n",
        "url = 'https://archive.ics.uci.edu/ml/machine-learning-databases/breast-cancer/breast-cancer.data'\n",
        "df = pd.read_csv(url\n",
        "                 ,na_values='?'\n",
        "                 ,names = ['recurrence', 'age', 'menopause', 'tumorsize', 'invnodes', 'nodecaps', 'degmalig', 'breast', 'breastquad' , 'irradiat']\n",
        ")\n",
        "df.dropna(inplace=True)"
      ],
      "execution_count": 1,
      "outputs": []
    },
    {
      "cell_type": "code",
      "metadata": {
        "id": "nSxfz8YEaHVJ"
      },
      "source": [
        "ds = tf.data.Dataset.from_tensor_slices((dict(df.iloc[:,1:]), df.iloc[:,0].replace({'no-recurrence-events': 0, 'recurrence-events': 1})))\n",
        "ds = ds.shuffle(buffer_size=len(df))"
      ],
      "execution_count": 2,
      "outputs": []
    },
    {
      "cell_type": "code",
      "metadata": {
        "id": "zdBR9CEzv5ye"
      },
      "source": [
        "train_ds = ds.take(200)\n",
        "train_ds = train_ds.batch(batch_size=20)\n",
        "test_ds = ds.skip(200)\n",
        "test_ds = test_ds.batch(batch_size=11)"
      ],
      "execution_count": 3,
      "outputs": []
    },
    {
      "cell_type": "code",
      "metadata": {
        "id": "RlO33rwcyu1d"
      },
      "source": [
        "input_layers = []\n",
        "encoded_features = []\n",
        "for key in ds.element_spec[0].keys():\n",
        "  feature = ds.map(lambda x, y: x[key])\n",
        "  feature = feature.map(lambda x: tf.expand_dims(x, -1))\n",
        "  if ds.element_spec[0][key].dtype == 'string':\n",
        "    categorize = tf.keras.layers.experimental.preprocessing.StringLookup(output_mode='binary')\n",
        "    categorize.adapt(feature)\n",
        "    tmp_layer = tf.keras.Input(shape=(1,),name=key,dtype=tf.string)\n",
        "    encoded_features.append(categorize(tmp_layer))\n",
        "    input_layers.append(tmp_layer)\n",
        "  elif ds.element_spec[0][key].dtype == 'int64':\n",
        "    normalizer = tf.keras.layers.experimental.preprocessing.Normalization()\n",
        "    normalizer.adapt(feature)\n",
        "    tmp_layer = tf.keras.Input(shape=(1,),name=key)\n",
        "    encoded_features.append(normalizer(tmp_layer))\n",
        "    input_layers.append(tmp_layer)"
      ],
      "execution_count": 4,
      "outputs": []
    },
    {
      "cell_type": "code",
      "metadata": {
        "id": "GQ4JTTnSq8vq"
      },
      "source": [
        "concat_feature = tf.keras.layers.concatenate(encoded_features)\n",
        "x = tf.keras.layers.Dense(18,activation='relu')(concat_feature)\n",
        "x = tf.keras.layers.Dense(18,activation='relu')(x)\n",
        "output = tf.keras.layers.Dense(1,activation='sigmoid')(x)\n",
        "model = tf.keras.Model(input_layers,output)\n",
        "model.compile(\"adam\", \"binary_crossentropy\", metrics=[\n",
        "                                                      tf.keras.metrics.Accuracy()\n",
        "                                                      ,tf.keras.metrics.Precision()\n",
        "                                                      ,tf.keras.metrics.Recall()])"
      ],
      "execution_count": 20,
      "outputs": []
    },
    {
      "cell_type": "code",
      "metadata": {
        "id": "dn4n689BGxyN"
      },
      "source": [
        "history = model.fit(train_ds, epochs=50, validation_data=test_ds, verbose=0)"
      ],
      "execution_count": 34,
      "outputs": []
    },
    {
      "cell_type": "code",
      "metadata": {
        "colab": {
          "base_uri": "https://localhost:8080/"
        },
        "id": "Jrxh4XvyFsH1",
        "outputId": "c16b7894-b057-45cf-f6fc-ccc205c06674"
      },
      "source": [
        "for blk in iter(test_ds):\n",
        "    result = model.predict(blk[0])\n",
        "    print('Actual: {} Predicted: {}'.format(blk[1].numpy(),result.round().T ))"
      ],
      "execution_count": 35,
      "outputs": [
        {
          "output_type": "stream",
          "text": [
            "Actual: [1 0 0 0 0 0 1 0 0 0 0] Predicted: [[1. 0. 0. 0. 0. 0. 1. 0. 0. 0. 0.]]\n",
            "Actual: [0 1 0 0 1 0 1 1 1 0 0] Predicted: [[0. 1. 0. 0. 1. 0. 1. 1. 1. 0. 0.]]\n",
            "Actual: [0 0 0 0 0 0 1 0 1 0 1] Predicted: [[0. 0. 0. 0. 0. 0. 1. 0. 1. 0. 1.]]\n",
            "Actual: [1 0 0 0 0 0 0 0 0 0 0] Predicted: [[1. 0. 0. 0. 0. 0. 0. 0. 0. 0. 0.]]\n",
            "Actual: [0 0 0 0 0 0 1 1 0 1 1] Predicted: [[0. 0. 0. 0. 0. 0. 1. 0. 0. 1. 1.]]\n",
            "Actual: [0 0 0 0 1 0 1 0 0 1 1] Predicted: [[0. 0. 0. 0. 0. 0. 1. 0. 0. 1. 1.]]\n",
            "Actual: [0 1 0 0 0 0 1 0 1 0 0] Predicted: [[0. 1. 0. 0. 0. 0. 1. 0. 1. 0. 0.]]\n"
          ],
          "name": "stdout"
        }
      ]
    },
    {
      "cell_type": "code",
      "metadata": {
        "id": "tOBMIDsAGapc",
        "colab": {
          "base_uri": "https://localhost:8080/"
        },
        "outputId": "f2f692e6-316e-45f5-aa53-d336eb241c81"
      },
      "source": [
        "history.history.keys()"
      ],
      "execution_count": 36,
      "outputs": [
        {
          "output_type": "execute_result",
          "data": {
            "text/plain": [
              "dict_keys(['loss', 'accuracy', 'precision_1', 'recall_1', 'val_loss', 'val_accuracy', 'val_precision_1', 'val_recall_1'])"
            ]
          },
          "metadata": {
            "tags": []
          },
          "execution_count": 36
        }
      ]
    },
    {
      "cell_type": "code",
      "metadata": {
        "id": "fBRc_5Lp5QTp"
      },
      "source": [
        "import matplotlib.pyplot as plt"
      ],
      "execution_count": 31,
      "outputs": []
    },
    {
      "cell_type": "code",
      "metadata": {
        "colab": {
          "base_uri": "https://localhost:8080/",
          "height": 265
        },
        "id": "Tkogkfm96qCV",
        "outputId": "4f8c5335-837b-467f-855e-3adb9520f795"
      },
      "source": [
        "# summarize history for accuracy\n",
        "plt.plot(history.history['loss'])\n",
        "plt.plot(history.history['val_loss'])\n",
        "plt.plot(history.history['accuracy'])\n",
        "plt.plot(history.history['val_accuracy'])\n",
        "plt.plot(history.history['precision_1'])\n",
        "plt.plot(history.history['val_precision_1'])\n",
        "plt.plot(history.history['recall_1'])\n",
        "plt.plot(history.history['val_recall_1'])\n",
        "#plt.title('model accuracy')\n",
        "#plt.ylabel('accuracy')\n",
        "#plt.xlabel('epoch')\n",
        "#plt.legend(['train', 'test'], loc='upper left')\n",
        "plt.show()"
      ],
      "execution_count": 37,
      "outputs": [
        {
          "output_type": "display_data",
          "data": {
            "image/png": "[encoded data removed]",
            "text/plain": [
              "<Figure size 432x288 with 1 Axes>"
            ]
          },
          "metadata": {
            "tags": [],
            "needs_background": "light"
          }
        }
      ]
    },
    {
      "cell_type": "code",
      "metadata": {
        "id": "WqyYVm7z7KJW"
      },
      "source": [
        ""
      ],
      "execution_count": null,
      "outputs": []
    }
  ]
}