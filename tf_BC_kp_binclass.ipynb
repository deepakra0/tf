{
  "nbformat": 4,
  "nbformat_minor": 0,
  "metadata": {
    "colab": {
      "name": "tf-BC-kp-binclass.ipynb",
      "provenance": [],
      "authorship_tag": "ABX9TyMVr1Ucr44OzR9+PGMu7MNC",
      "include_colab_link": true
    },
    "kernelspec": {
      "name": "python3",
      "display_name": "Python 3"
    },
    "language_info": {
      "name": "python"
    }
  },
  "cells": [
    {
      "cell_type": "markdown",
      "metadata": {
        "id": "view-in-github",
        "colab_type": "text"
      },
      "source": [
        "<a href=\"https://colab.research.google.com/github/deepakra0/tf/blob/Preprocessing/tf_BC_kp_binclass.ipynb\" target=\"_parent\"><img src=\"https://colab.research.google.com/assets/colab-badge.svg\" alt=\"Open In Colab\"/></a>"
      ]
    },
    {
      "cell_type": "code",
      "metadata": {
        "id": "p45YgUCQZ2hd"
      },
      "source": [
        "import tensorflow as tf\n",
        "import pandas as pd\n",
        "url = 'https://archive.ics.uci.edu/ml/machine-learning-databases/breast-cancer/breast-cancer.data'\n",
        "df = pd.read_csv(url\n",
        "                 ,na_values='?'\n",
        "                 ,names = ['recurrence', 'age', 'menopause', 'tumorsize', 'invnodes', 'nodecaps', 'degmalig', 'breast', 'breastquad' , 'irradiat']\n",
        ")\n",
        "df.dropna(inplace=True)"
      ],
      "execution_count": 1,
      "outputs": []
    },
    {
      "cell_type": "code",
      "metadata": {
        "id": "nSxfz8YEaHVJ"
      },
      "source": [
        "ds = tf.data.Dataset.from_tensor_slices((dict(df.iloc[:,1:]), df.iloc[:,0].replace({'no-recurrence-events': 0, 'recurrence-events': 1})))\n",
        "ds = ds.shuffle(buffer_size=len(df))\n",
        "ds = ds.batch(10)"
      ],
      "execution_count": 2,
      "outputs": []
    },
    {
      "cell_type": "code",
      "metadata": {
        "id": "xvExdsoneUnD"
      },
      "source": [
        "ds_feature,ds_target = next(iter(ds))"
      ],
      "execution_count": 20,
      "outputs": []
    },
    {
      "cell_type": "code",
      "metadata": {
        "id": "1cUJq8oyeDun"
      },
      "source": [
        "n1 = tf.keras.layers.experimental.preprocessing.StringLookup()"
      ],
      "execution_count": 93,
      "outputs": []
    },
    {
      "cell_type": "code",
      "metadata": {
        "id": "YHxfans1cFy5"
      },
      "source": [
        "pf1 = ds.map(lambda x,y:x['age'])"
      ],
      "execution_count": 94,
      "outputs": []
    },
    {
      "cell_type": "code",
      "metadata": {
        "id": "eHElj2cLcUal"
      },
      "source": [
        "pf1 = pf1.map(lambda x: tf.expand_dims(x, -1))"
      ],
      "execution_count": 95,
      "outputs": []
    },
    {
      "cell_type": "code",
      "metadata": {
        "id": "uFuPT7p7cyf4"
      },
      "source": [
        "n1.adapt(pf1)"
      ],
      "execution_count": 96,
      "outputs": []
    },
    {
      "cell_type": "code",
      "metadata": {
        "colab": {
          "base_uri": "https://localhost:8080/"
        },
        "id": "Xe8H6E95dlI7",
        "outputId": "67d7f641-414c-4150-ed1c-c8cc3af6db1f"
      },
      "source": [
        "n1(tf.keras.Input(shape=(1,),name='age', dtype=tf.string))"
      ],
      "execution_count": 104,
      "outputs": [
        {
          "output_type": "execute_result",
          "data": {
            "text/plain": [
              "<KerasTensor: shape=(None, 1) dtype=int64 (created by layer 'string_lookup_3')>"
            ]
          },
          "metadata": {
            "tags": []
          },
          "execution_count": 104
        }
      ]
    },
    {
      "cell_type": "code",
      "metadata": {
        "id": "gYGrOCzMejxh"
      },
      "source": [
        "l1 = tf.keras.layers.Input(shape=(1,),name='degamlig', dtype=tf.int32)"
      ],
      "execution_count": 23,
      "outputs": []
    },
    {
      "cell_type": "code",
      "metadata": {
        "colab": {
          "base_uri": "https://localhost:8080/",
          "height": 163
        },
        "id": "AV8rsP0PkdYI",
        "outputId": "81512628-fd46-4a91-b48f-d14ea8474d5d"
      },
      "source": [
        "n1(l1)(ds_feature['degmalig'])"
      ],
      "execution_count": 25,
      "outputs": [
        {
          "output_type": "error",
          "ename": "TypeError",
          "evalue": "ignored",
          "traceback": [
            "\u001b[0;31m---------------------------------------------------------------------------\u001b[0m",
            "\u001b[0;31mTypeError\u001b[0m                                 Traceback (most recent call last)",
            "\u001b[0;32m<ipython-input-25-74f1b8e6822d>\u001b[0m in \u001b[0;36m<module>\u001b[0;34m()\u001b[0m\n\u001b[0;32m----> 1\u001b[0;31m \u001b[0mn1\u001b[0m\u001b[0;34m(\u001b[0m\u001b[0ml1\u001b[0m\u001b[0;34m)\u001b[0m\u001b[0;34m(\u001b[0m\u001b[0mds_feature\u001b[0m\u001b[0;34m[\u001b[0m\u001b[0;34m'degmalig'\u001b[0m\u001b[0;34m]\u001b[0m\u001b[0;34m)\u001b[0m\u001b[0;34m\u001b[0m\u001b[0;34m\u001b[0m\u001b[0m\n\u001b[0m",
            "\u001b[0;31mTypeError\u001b[0m: 'KerasTensor' object is not callable"
          ]
        }
      ]
    },
    {
      "cell_type": "code",
      "metadata": {
        "id": "Cr5W4D52kn1F"
      },
      "source": [
        "def encode_numerical_feature(layer, name, dataset):\n",
        "    # Prepare a Dataset that only yields our feature\n",
        "    feature = dataset.map(lambda x, y: x[name])\n",
        "    feature = feature_ds.map(lambda x: tf.expand_dims(x, -1))\n",
        "\n",
        "    # Learn the statistics of the data\n",
        "    normalizer = tf.keras.layers.experimental.preprocessing.Normalization()\n",
        "    normalizer.adapt(feature)\n",
        "\n",
        "    # Normalize the input feature\n",
        "    return normalizer(layer)"
      ],
      "execution_count": 26,
      "outputs": []
    },
    {
      "cell_type": "code",
      "metadata": {
        "colab": {
          "base_uri": "https://localhost:8080/",
          "height": 197
        },
        "id": "JTV6eWsEmQel",
        "outputId": "a3f933fc-6068-4e8f-b9a4-aab25c801105"
      },
      "source": [
        "for spec in ds.element_spec:\n",
        "  print(spec.keys())"
      ],
      "execution_count": 48,
      "outputs": [
        {
          "output_type": "stream",
          "text": [
            "dict_keys(['age', 'menopause', 'tumorsize', 'invnodes', 'nodecaps', 'degmalig', 'breast', 'breastquad', 'irradiat'])\n"
          ],
          "name": "stdout"
        },
        {
          "output_type": "error",
          "ename": "AttributeError",
          "evalue": "ignored",
          "traceback": [
            "\u001b[0;31m---------------------------------------------------------------------------\u001b[0m",
            "\u001b[0;31mAttributeError\u001b[0m                            Traceback (most recent call last)",
            "\u001b[0;32m<ipython-input-48-938be6a60380>\u001b[0m in \u001b[0;36m<module>\u001b[0;34m()\u001b[0m\n\u001b[1;32m      1\u001b[0m \u001b[0;32mfor\u001b[0m \u001b[0mspec\u001b[0m \u001b[0;32min\u001b[0m \u001b[0mds\u001b[0m\u001b[0;34m.\u001b[0m\u001b[0melement_spec\u001b[0m\u001b[0;34m:\u001b[0m\u001b[0;34m\u001b[0m\u001b[0;34m\u001b[0m\u001b[0m\n\u001b[0;32m----> 2\u001b[0;31m   \u001b[0mprint\u001b[0m\u001b[0;34m(\u001b[0m\u001b[0mspec\u001b[0m\u001b[0;34m.\u001b[0m\u001b[0mkeys\u001b[0m\u001b[0;34m(\u001b[0m\u001b[0;34m)\u001b[0m\u001b[0;34m)\u001b[0m\u001b[0;34m\u001b[0m\u001b[0;34m\u001b[0m\u001b[0m\n\u001b[0m",
            "\u001b[0;31mAttributeError\u001b[0m: 'TensorSpec' object has no attribute 'keys'"
          ]
        }
      ]
    },
    {
      "cell_type": "code",
      "metadata": {
        "id": "8WXv7pxeoIhs"
      },
      "source": [
        "input_layers = []\n",
        "encoded_features = []\n",
        "for key in ds.element_spec[0].keys():\n",
        "  feature = ds.map(lambda x, y: x[key])\n",
        "  feature = feature.map(lambda x: tf.expand_dims(x, -1))\n",
        "  if ds.element_spec[0][key].dtype == 'string':\n",
        "    categorize = tf.keras.layers.experimental.preprocessing.StringLookup(output_mode='binary')\n",
        "    categorize.adapt(feature)\n",
        "    tmp_layer = tf.keras.Input(shape=(1,),name=key,dtype=tf.string)\n",
        "    encoded_features.append(categorize(tmp_layer))\n",
        "    input_layers.append(tmp_layer)\n",
        "  elif ds.element_spec[0][key].dtype == 'int64':\n",
        "    normalizer = tf.keras.layers.experimental.preprocessing.Normalization()\n",
        "    normalizer.adapt(feature)\n",
        "    tmp_layer = tf.keras.Input(shape=(1,),name=key)\n",
        "    encoded_features.append(normalizer(tmp_layer))\n",
        "    input_layers.append(tmp_layer)\n"
      ],
      "execution_count": 108,
      "outputs": []
    },
    {
      "cell_type": "code",
      "metadata": {
        "id": "GQ4JTTnSq8vq"
      },
      "source": [
        "concat_feature = tf.keras.layers.concatenate(encoded_features)"
      ],
      "execution_count": 117,
      "outputs": []
    },
    {
      "cell_type": "code",
      "metadata": {
        "id": "xhA01dCTvMVK"
      },
      "source": [
        "x = tf.keras.layers.Dense(32,activation='relu')(concat_feature)"
      ],
      "execution_count": 118,
      "outputs": []
    },
    {
      "cell_type": "code",
      "metadata": {
        "id": "E3rvHHLbIERd"
      },
      "source": [
        "output = tf.keras.layers.Dense(1,activation='sigmoid')(x)"
      ],
      "execution_count": 123,
      "outputs": []
    },
    {
      "cell_type": "code",
      "metadata": {
        "id": "IrY9wkaeFGT4"
      },
      "source": [
        "model = tf.keras.Model(input_layers,output)"
      ],
      "execution_count": 124,
      "outputs": []
    },
    {
      "cell_type": "code",
      "metadata": {
        "id": "Xi92vFcGGian"
      },
      "source": [
        "model.compile(\"adam\", \"binary_crossentropy\", metrics=[\"accuracy\"])"
      ],
      "execution_count": 125,
      "outputs": []
    },
    {
      "cell_type": "code",
      "metadata": {
        "colab": {
          "base_uri": "https://localhost:8080/"
        },
        "id": "dn4n689BGxyN",
        "outputId": "b9f1b77d-9363-4615-981c-ac74ada12601"
      },
      "source": [
        "history = model.fit(ds,epochs=50,validation_data=ds)"
      ],
      "execution_count": 130,
      "outputs": [
        {
          "output_type": "stream",
          "text": [
            "Epoch 1/50\n",
            "28/28 [==============================] - 0s 15ms/step - loss: 0.2626 - accuracy: 0.9206 - val_loss: 0.2543 - val_accuracy: 0.9242\n",
            "Epoch 2/50\n",
            "28/28 [==============================] - 0s 4ms/step - loss: 0.2576 - accuracy: 0.9242 - val_loss: 0.2524 - val_accuracy: 0.9206\n",
            "Epoch 3/50\n",
            "28/28 [==============================] - 0s 4ms/step - loss: 0.2588 - accuracy: 0.9170 - val_loss: 0.2488 - val_accuracy: 0.9242\n",
            "Epoch 4/50\n",
            "28/28 [==============================] - 0s 4ms/step - loss: 0.2523 - accuracy: 0.9242 - val_loss: 0.2465 - val_accuracy: 0.9278\n",
            "Epoch 5/50\n",
            "28/28 [==============================] - 0s 5ms/step - loss: 0.2497 - accuracy: 0.9278 - val_loss: 0.2442 - val_accuracy: 0.9278\n",
            "Epoch 6/50\n",
            "28/28 [==============================] - 0s 5ms/step - loss: 0.2480 - accuracy: 0.9278 - val_loss: 0.2415 - val_accuracy: 0.9242\n",
            "Epoch 7/50\n",
            "28/28 [==============================] - 0s 5ms/step - loss: 0.2444 - accuracy: 0.9242 - val_loss: 0.2392 - val_accuracy: 0.9314\n",
            "Epoch 8/50\n",
            "28/28 [==============================] - 0s 4ms/step - loss: 0.2428 - accuracy: 0.9242 - val_loss: 0.2366 - val_accuracy: 0.9278\n",
            "Epoch 9/50\n",
            "28/28 [==============================] - 0s 5ms/step - loss: 0.2402 - accuracy: 0.9278 - val_loss: 0.2344 - val_accuracy: 0.9278\n",
            "Epoch 10/50\n",
            "28/28 [==============================] - 0s 5ms/step - loss: 0.2372 - accuracy: 0.9278 - val_loss: 0.2320 - val_accuracy: 0.9314\n",
            "Epoch 11/50\n",
            "28/28 [==============================] - 0s 4ms/step - loss: 0.2348 - accuracy: 0.9242 - val_loss: 0.2299 - val_accuracy: 0.9314\n",
            "Epoch 12/50\n",
            "28/28 [==============================] - 0s 5ms/step - loss: 0.2330 - accuracy: 0.9278 - val_loss: 0.2277 - val_accuracy: 0.9314\n",
            "Epoch 13/50\n",
            "28/28 [==============================] - 0s 6ms/step - loss: 0.2304 - accuracy: 0.9314 - val_loss: 0.2259 - val_accuracy: 0.9314\n",
            "Epoch 14/50\n",
            "28/28 [==============================] - 0s 4ms/step - loss: 0.2281 - accuracy: 0.9314 - val_loss: 0.2232 - val_accuracy: 0.9386\n",
            "Epoch 15/50\n",
            "28/28 [==============================] - 0s 4ms/step - loss: 0.2264 - accuracy: 0.9278 - val_loss: 0.2213 - val_accuracy: 0.9386\n",
            "Epoch 16/50\n",
            "28/28 [==============================] - 0s 5ms/step - loss: 0.2233 - accuracy: 0.9350 - val_loss: 0.2193 - val_accuracy: 0.9350\n",
            "Epoch 17/50\n",
            "28/28 [==============================] - 0s 5ms/step - loss: 0.2221 - accuracy: 0.9350 - val_loss: 0.2175 - val_accuracy: 0.9350\n",
            "Epoch 18/50\n",
            "28/28 [==============================] - 0s 4ms/step - loss: 0.2218 - accuracy: 0.9278 - val_loss: 0.2161 - val_accuracy: 0.9386\n",
            "Epoch 19/50\n",
            "28/28 [==============================] - 0s 4ms/step - loss: 0.2186 - accuracy: 0.9386 - val_loss: 0.2132 - val_accuracy: 0.9314\n",
            "Epoch 20/50\n",
            "28/28 [==============================] - 0s 4ms/step - loss: 0.2185 - accuracy: 0.9278 - val_loss: 0.2115 - val_accuracy: 0.9386\n",
            "Epoch 21/50\n",
            "28/28 [==============================] - 0s 4ms/step - loss: 0.2139 - accuracy: 0.9350 - val_loss: 0.2095 - val_accuracy: 0.9386\n",
            "Epoch 22/50\n",
            "28/28 [==============================] - 0s 4ms/step - loss: 0.2123 - accuracy: 0.9314 - val_loss: 0.2080 - val_accuracy: 0.9386\n",
            "Epoch 23/50\n",
            "28/28 [==============================] - 0s 5ms/step - loss: 0.2134 - accuracy: 0.9350 - val_loss: 0.2061 - val_accuracy: 0.9386\n",
            "Epoch 24/50\n",
            "28/28 [==============================] - 0s 5ms/step - loss: 0.2086 - accuracy: 0.9386 - val_loss: 0.2045 - val_accuracy: 0.9386\n",
            "Epoch 25/50\n",
            "28/28 [==============================] - 0s 4ms/step - loss: 0.2069 - accuracy: 0.9350 - val_loss: 0.2026 - val_accuracy: 0.9386\n",
            "Epoch 26/50\n",
            "28/28 [==============================] - 0s 4ms/step - loss: 0.2070 - accuracy: 0.9314 - val_loss: 0.2010 - val_accuracy: 0.9422\n",
            "Epoch 27/50\n",
            "28/28 [==============================] - 0s 4ms/step - loss: 0.2038 - accuracy: 0.9422 - val_loss: 0.1990 - val_accuracy: 0.9422\n",
            "Epoch 28/50\n",
            "28/28 [==============================] - 0s 4ms/step - loss: 0.2026 - accuracy: 0.9386 - val_loss: 0.1974 - val_accuracy: 0.9386\n",
            "Epoch 29/50\n",
            "28/28 [==============================] - 0s 4ms/step - loss: 0.2019 - accuracy: 0.9350 - val_loss: 0.1958 - val_accuracy: 0.9422\n",
            "Epoch 30/50\n",
            "28/28 [==============================] - 0s 4ms/step - loss: 0.1991 - accuracy: 0.9422 - val_loss: 0.1941 - val_accuracy: 0.9422\n",
            "Epoch 31/50\n",
            "28/28 [==============================] - 0s 4ms/step - loss: 0.1970 - accuracy: 0.9422 - val_loss: 0.1925 - val_accuracy: 0.9422\n",
            "Epoch 32/50\n",
            "28/28 [==============================] - 0s 4ms/step - loss: 0.1949 - accuracy: 0.9422 - val_loss: 0.1909 - val_accuracy: 0.9422\n",
            "Epoch 33/50\n",
            "28/28 [==============================] - 0s 3ms/step - loss: 0.1945 - accuracy: 0.9422 - val_loss: 0.1894 - val_accuracy: 0.9422\n",
            "Epoch 34/50\n",
            "28/28 [==============================] - 0s 5ms/step - loss: 0.1921 - accuracy: 0.9386 - val_loss: 0.1878 - val_accuracy: 0.9422\n",
            "Epoch 35/50\n",
            "28/28 [==============================] - 0s 5ms/step - loss: 0.1913 - accuracy: 0.9386 - val_loss: 0.1865 - val_accuracy: 0.9422\n",
            "Epoch 36/50\n",
            "28/28 [==============================] - 0s 4ms/step - loss: 0.1908 - accuracy: 0.9350 - val_loss: 0.1852 - val_accuracy: 0.9422\n",
            "Epoch 37/50\n",
            "28/28 [==============================] - 0s 5ms/step - loss: 0.1911 - accuracy: 0.9386 - val_loss: 0.1847 - val_accuracy: 0.9422\n",
            "Epoch 38/50\n",
            "28/28 [==============================] - 0s 5ms/step - loss: 0.1948 - accuracy: 0.9350 - val_loss: 0.1824 - val_accuracy: 0.9422\n",
            "Epoch 39/50\n",
            "28/28 [==============================] - 0s 4ms/step - loss: 0.1856 - accuracy: 0.9422 - val_loss: 0.1808 - val_accuracy: 0.9422\n",
            "Epoch 40/50\n",
            "28/28 [==============================] - 0s 4ms/step - loss: 0.1863 - accuracy: 0.9422 - val_loss: 0.1795 - val_accuracy: 0.9422\n",
            "Epoch 41/50\n",
            "28/28 [==============================] - 0s 5ms/step - loss: 0.1822 - accuracy: 0.9422 - val_loss: 0.1780 - val_accuracy: 0.9422\n",
            "Epoch 42/50\n",
            "28/28 [==============================] - 0s 5ms/step - loss: 0.1840 - accuracy: 0.9386 - val_loss: 0.1770 - val_accuracy: 0.9422\n",
            "Epoch 43/50\n",
            "28/28 [==============================] - 0s 4ms/step - loss: 0.1803 - accuracy: 0.9386 - val_loss: 0.1753 - val_accuracy: 0.9422\n",
            "Epoch 44/50\n",
            "28/28 [==============================] - 0s 4ms/step - loss: 0.1774 - accuracy: 0.9422 - val_loss: 0.1740 - val_accuracy: 0.9422\n",
            "Epoch 45/50\n",
            "28/28 [==============================] - 0s 4ms/step - loss: 0.1780 - accuracy: 0.9422 - val_loss: 0.1724 - val_accuracy: 0.9422\n",
            "Epoch 46/50\n",
            "28/28 [==============================] - 0s 4ms/step - loss: 0.1776 - accuracy: 0.9422 - val_loss: 0.1722 - val_accuracy: 0.9422\n",
            "Epoch 47/50\n",
            "28/28 [==============================] - 0s 5ms/step - loss: 0.1750 - accuracy: 0.9422 - val_loss: 0.1705 - val_accuracy: 0.9422\n",
            "Epoch 48/50\n",
            "28/28 [==============================] - 0s 4ms/step - loss: 0.1734 - accuracy: 0.9422 - val_loss: 0.1687 - val_accuracy: 0.9422\n",
            "Epoch 49/50\n",
            "28/28 [==============================] - 0s 5ms/step - loss: 0.1715 - accuracy: 0.9422 - val_loss: 0.1677 - val_accuracy: 0.9422\n",
            "Epoch 50/50\n",
            "28/28 [==============================] - 0s 4ms/step - loss: 0.1708 - accuracy: 0.9350 - val_loss: 0.1659 - val_accuracy: 0.9422\n"
          ],
          "name": "stdout"
        }
      ]
    },
    {
      "cell_type": "code",
      "metadata": {
        "id": "xA5SMtk8IqTq"
      },
      "source": [
        ""
      ],
      "execution_count": null,
      "outputs": []
    }
  ]
}