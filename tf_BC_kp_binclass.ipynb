{
  "nbformat": 4,
  "nbformat_minor": 0,
  "metadata": {
    "colab": {
      "name": "tf-BC-kp-binclass.ipynb",
      "provenance": [],
      "authorship_tag": "ABX9TyORekrGUVTzbjmUe4zR817C",
      "include_colab_link": true
    },
    "kernelspec": {
      "name": "python3",
      "display_name": "Python 3"
    },
    "language_info": {
      "name": "python"
    }
  },
  "cells": [
    {
      "cell_type": "markdown",
      "metadata": {
        "id": "view-in-github",
        "colab_type": "text"
      },
      "source": [
        "<a href=\"https://colab.research.google.com/github/deepakra0/tf/blob/Preprocessing/tf_BC_kp_binclass.ipynb\" target=\"_parent\"><img src=\"https://colab.research.google.com/assets/colab-badge.svg\" alt=\"Open In Colab\"/></a>"
      ]
    },
    {
      "cell_type": "code",
      "metadata": {
        "id": "p45YgUCQZ2hd"
      },
      "source": [
        "import tensorflow as tf\n",
        "import pandas as pd\n",
        "url = 'https://archive.ics.uci.edu/ml/machine-learning-databases/breast-cancer/breast-cancer.data'\n",
        "df = pd.read_csv(url\n",
        "                 ,na_values='?'\n",
        "                 ,names = ['recurrence', 'age', 'menopause', 'tumorsize', 'invnodes', 'nodecaps', 'degmalig', 'breast', 'breastquad' , 'irradiat']\n",
        ")\n",
        "df.dropna(inplace=True)"
      ],
      "execution_count": null,
      "outputs": []
    },
    {
      "cell_type": "code",
      "metadata": {
        "id": "nSxfz8YEaHVJ"
      },
      "source": [
        "ds = tf.data.Dataset.from_tensor_slices((dict(df.iloc[:,1:]), df.iloc[:,0].replace({'no-recurrence-events': 0, 'recurrence-events': 1})))\n",
        "ds = ds.shuffle(buffer_size=len(df))\n",
        "ds = ds.batch(10)"
      ],
      "execution_count": null,
      "outputs": []
    },
    {
      "cell_type": "code",
      "metadata": {
        "id": "1cUJq8oyeDun"
      },
      "source": [
        "ds_feature,ds_target = next(iter(ds))"
      ],
      "execution_count": null,
      "outputs": []
    },
    {
      "cell_type": "code",
      "metadata": {
        "id": "v-ThsYiGbMX8"
      },
      "source": [
        "n1 = tf.keras.layers.experimental.preprocessing.Normalization()"
      ],
      "execution_count": null,
      "outputs": []
    },
    {
      "cell_type": "code",
      "metadata": {
        "colab": {
          "base_uri": "https://localhost:8080/"
        },
        "id": "_ZPE2hJdbRuQ",
        "outputId": "5f142d92-03b1-482a-c430-ba0b06df9287"
      },
      "source": [
        "n1.adapt(ds_feature['degmalig'].numpy())"
      ],
      "execution_count": null,
      "outputs": [
        {
          "output_type": "stream",
          "text": [
            "WARNING:tensorflow:6 out of the last 33 calls to <function PreprocessingLayer.make_adapt_function.<locals>.adapt_step at 0x7f12b9c8d7a0> triggered tf.function retracing. Tracing is expensive and the excessive number of tracings could be due to (1) creating @tf.function repeatedly in a loop, (2) passing tensors with different shapes, (3) passing Python objects instead of tensors. For (1), please define your @tf.function outside of the loop. For (2), @tf.function has experimental_relax_shapes=True option that relaxes argument shapes that can avoid unnecessary retracing. For (3), please refer to https://www.tensorflow.org/guide/function#controlling_retracing and https://www.tensorflow.org/api_docs/python/tf/function for  more details.\n"
          ],
          "name": "stdout"
        }
      ]
    },
    {
      "cell_type": "code",
      "metadata": {
        "id": "MeQYh_NIeCH4"
      },
      "source": [
        "l1 = n1(ds_feature['degmalig'])"
      ],
      "execution_count": null,
      "outputs": []
    },
    {
      "cell_type": "code",
      "metadata": {
        "id": "65AGp8mwd2WP"
      },
      "source": [
        "c1 = tf.keras.layers.experimental.preprocessing.StringLookup()"
      ],
      "execution_count": null,
      "outputs": []
    },
    {
      "cell_type": "code",
      "metadata": {
        "id": "7Y7UZqykvWdt"
      },
      "source": [
        "c1.adapt(ds.map(lambda x,y:x['age']))  #(ds_feature['age'])"
      ],
      "execution_count": null,
      "outputs": []
    },
    {
      "cell_type": "code",
      "metadata": {
        "colab": {
          "base_uri": "https://localhost:8080/"
        },
        "id": "AmmARC3Xx3UE",
        "outputId": "db05fd49-2c18-4586-d902-dbfa6eb81e27"
      },
      "source": [
        "c1(ds_feature['age'])"
      ],
      "execution_count": null,
      "outputs": [
        {
          "output_type": "execute_result",
          "data": {
            "text/plain": [
              "<tf.Tensor: shape=(10,), dtype=int64, numpy=array([3, 3, 3, 3, 2, 2, 2, 4, 4, 3])>"
            ]
          },
          "metadata": {
            "tags": []
          },
          "execution_count": 56
        }
      ]
    },
    {
      "cell_type": "code",
      "metadata": {
        "id": "i2X2Yztv3W62"
      },
      "source": [
        "e1 = tf.keras.layers.experimental.preprocessing.CategoryEncoding(num_tokens=c1.vocabulary_size())"
      ],
      "execution_count": null,
      "outputs": []
    },
    {
      "cell_type": "code",
      "metadata": {
        "colab": {
          "base_uri": "https://localhost:8080/"
        },
        "id": "lBJzoUrZ3viY",
        "outputId": "0a0e2ea1-11b5-4d07-d093-8cb85f0441e1"
      },
      "source": [
        "e1(c1(ds_feature['age'])) kkkplll"
      ],
      "execution_count": null,
      "outputs": [
        {
          "output_type": "execute_result",
          "data": {
            "text/plain": [
              "<tf.Tensor: shape=(10, 8), dtype=float32, numpy=\n",
              "array([[0., 0., 0., 1., 0., 0., 0., 0.],\n",
              "       [0., 0., 0., 1., 0., 0., 0., 0.],\n",
              "       [0., 0., 0., 1., 0., 0., 0., 0.],\n",
              "       [0., 0., 0., 1., 0., 0., 0., 0.],\n",
              "       [0., 0., 1., 0., 0., 0., 0., 0.],\n",
              "       [0., 0., 1., 0., 0., 0., 0., 0.],\n",
              "       [0., 0., 1., 0., 0., 0., 0., 0.],\n",
              "       [0., 0., 0., 0., 1., 0., 0., 0.],\n",
              "       [0., 0., 0., 0., 1., 0., 0., 0.],\n",
              "       [0., 0., 0., 1., 0., 0., 0., 0.]], dtype=float32)>"
            ]
          },
          "metadata": {
            "tags": []
          },
          "execution_count": 61
        }
      ]
    }
  ]
}